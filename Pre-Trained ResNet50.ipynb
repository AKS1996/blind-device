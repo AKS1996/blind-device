{
 "cells": [
  {
   "cell_type": "code",
   "execution_count": 53,
   "metadata": {},
   "outputs": [],
   "source": [
    "import keras\n",
    "from keras.applications import resnet50, vgg16, mobilenet, inception_v3\n",
    "from keras.applications.imagenet_utils import decode_predictions\n",
    "import cv2\n",
    "import numpy as np\n",
    "import pyttsx\n",
    "\n",
    "engine = pyttsx.init()\n",
    "\n",
    "resnet50_model = resnet50.ResNet50(weights='imagenet')"
   ]
  },
  {
   "cell_type": "code",
   "execution_count": 50,
   "metadata": {},
   "outputs": [
    {
     "name": "stdout",
     "output_type": "stream",
     "text": [
      "Camera Not Found Probably\n"
     ]
    }
   ],
   "source": [
    "cap = cv2.VideoCapture(0)\n",
    "\n",
    "if cap.isOpened():\n",
    "    i=1\n",
    "    while True:\n",
    "        ret, img = cap.read()\n",
    "        img_input = cv2.resize(img, (224,224))\n",
    "        img_input = np.array(img_input, dtype=np.float64)\n",
    "        img_input = np.expand_dims(img_input, axis=0)\n",
    "\n",
    "        img_input1 = vgg16.preprocess_input(img_input.copy())\n",
    "        img_input2 = inception_v3.preprocess_input(img_input.copy())\n",
    "        img_input3 = resnet50.preprocess_input(img_input.copy())\n",
    "        img_input4 = mobilenet.preprocess_input(img_input.copy())\n",
    "\n",
    "\n",
    "        predictions = resnet50_model.predict(img_input3)\n",
    "        label = decode_predictions(predictions)\n",
    "        \n",
    "        if i%25 == 0:\n",
    "            engine.say(label[0][0][1])\n",
    "            engine.runAndWait()\n",
    "\n",
    "        if cv2.waitKey(1) and 0xFF == ord('q'):\n",
    "            break\n",
    "            \n",
    "else:\n",
    "    print(\"Camera Not Found Probably\")\n",
    "        \n",
    "cap.release()\n",
    "cv2.destroyAllWindows()"
   ]
  },
  {
   "cell_type": "code",
   "execution_count": null,
   "metadata": {},
   "outputs": [],
   "source": []
  }
 ],
 "metadata": {
  "kernelspec": {
   "display_name": "Python 2",
   "language": "python",
   "name": "python2"
  },
  "language_info": {
   "codemirror_mode": {
    "name": "ipython",
    "version": 2
   },
   "file_extension": ".py",
   "mimetype": "text/x-python",
   "name": "python",
   "nbconvert_exporter": "python",
   "pygments_lexer": "ipython2",
   "version": "2.7.5"
  }
 },
 "nbformat": 4,
 "nbformat_minor": 2
}
