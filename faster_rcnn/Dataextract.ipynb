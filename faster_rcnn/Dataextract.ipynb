{
 "cells": [
  {
   "cell_type": "code",
   "execution_count": 1,
   "metadata": {},
   "outputs": [],
   "source": [
    "import os \n",
    "import xml.etree.ElementTree as ET\n",
    "import numpy as np"
   ]
  },
  {
   "cell_type": "code",
   "execution_count": 2,
   "metadata": {},
   "outputs": [],
   "source": [
    "def data(inp_path):\n",
    "    all_imgs=[]\n",
    "    cls_count={}\n",
    "    cls_map={}\n",
    "    data_path=os.path.join(inp_path,'VOC2012')\n",
    "    annot_pth=os.path.join(data_path,'Annotations')\n",
    "    images=os.path.join(data_path,'JPEGimages')\n",
    "    path_trainval=os.path.join(data_path,'Imagesets','Main','trainval.txt')\n",
    "        #path_test=os.path.join(data_path,ImagSets,Main,'test.txt')\n",
    "    trainval=[]\n",
    "    with open(path_trainval) as f:\n",
    "        for line in f:\n",
    "            trainval.append(line.strip() + '.jpg')\n",
    "    annots=[os.path.join(annot_pth,i) for i in os.listdir(annot_pth)]\n",
    "    i=0\n",
    "    for a in annots:\n",
    "        i+=1\n",
    "        e=ET.parse(a)\n",
    "        elm=e.getroot()\n",
    "        elm_objs=elm.findall('object')\n",
    "        elm_filename=elm.find('filename').text\n",
    "        elm_w = int(elm.find('size').find('width').text)\n",
    "        elm_h=int(elm.find('size').find('height').text)\n",
    "        if len(elm_objs)>0:\n",
    "            annot_data={'filepath':os.path.join(images, elm_filename),'width':elm_w,'height':elm_h,'bboxes':[]}\n",
    "            if elm_filename in trainval:\n",
    "                annot_data['imageset'] = 'trainval'\n",
    "                #elif elm_filename in test_files:\n",
    "                #    annot_data['imageset']='test'\n",
    "            else:\n",
    "                annot_data['imageset']='trainval'\n",
    "        for j in elm_objs:\n",
    "            cls_name = j.find('name').text\n",
    "            if cls_name not in cls_count:\n",
    "                cls_count[cls_name] = 1\n",
    "            else:\n",
    "                cls_count[cls_name]+=1\n",
    "            if cls_name not in cls_map:\n",
    "                cls_map[cls_name] = len(cls_map)\n",
    "            obj_bbox = j.find('bndbox')\n",
    "            x1 = int(round(float(obj_bbox.find('xmin').text)))\n",
    "            y1 = int(round(float(obj_bbox.find('ymin').text)))\n",
    "            x2 = int(round(float(obj_bbox.find('xmax').text)))\n",
    "            y2 = int(round(float(obj_bbox.find('ymax').text)))\n",
    "            difficulty = int(j.find('difficult').text) == 1\n",
    "            annot_data['bboxes'].append({'class': cls_name, 'x1': x1, 'x2': x2, 'y1': y1, 'y2': y2, 'difficult': difficulty})\n",
    "        all_imgs.append(annot_data)\n",
    "    return all_imgs, cls_count, cls_map           "
   ]
  },
  {
   "cell_type": "code",
   "execution_count": 3,
   "metadata": {},
   "outputs": [],
   "source": [
    "#import os\n",
    "#import xml.etree.ElementTree as ET\n",
    "#import numpy as np\n",
    "#k,m,n=data(r'C:\\Users\\ANSHUL\\Downloads\\VOCdevkit')"
   ]
  },
  {
   "cell_type": "code",
   "execution_count": null,
   "metadata": {},
   "outputs": [],
   "source": []
  },
  {
   "cell_type": "code",
   "execution_count": null,
   "metadata": {},
   "outputs": [],
   "source": []
  },
  {
   "cell_type": "code",
   "execution_count": null,
   "metadata": {},
   "outputs": [],
   "source": []
  }
 ],
 "metadata": {
  "kernelspec": {
   "display_name": "Python 3",
   "language": "python",
   "name": "python3"
  },
  "language_info": {
   "codemirror_mode": {
    "name": "ipython",
    "version": 3
   },
   "file_extension": ".py",
   "mimetype": "text/x-python",
   "name": "python",
   "nbconvert_exporter": "python",
   "pygments_lexer": "ipython3",
   "version": "3.6.4"
  }
 },
 "nbformat": 4,
 "nbformat_minor": 2
}
