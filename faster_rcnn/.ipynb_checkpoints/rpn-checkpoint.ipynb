{
 "cells": [
  {
   "cell_type": "code",
   "execution_count": 1,
   "metadata": {},
   "outputs": [
    {
     "name": "stderr",
     "output_type": "stream",
     "text": [
      "Using TensorFlow backend.\n"
     ]
    }
   ],
   "source": [
    "from keras.layers import Convolution2D"
   ]
  },
  {
   "cell_type": "code",
   "execution_count": null,
   "metadata": {},
   "outputs": [],
   "source": [
    "def rpn(base_out, anchor_num):\n",
    "    out = Convolution2D(512, (3, 3), padding='same', \n",
    "                        activation='relu', \n",
    "                        kernel_initializer='normal', \n",
    "                        name='rpn_conv1')(base_out)\n",
    "    \n",
    "    rpn_regr_out = Convolution2D(anchor_num * 4, (1, 1), \n",
    "                                 activation='linear', \n",
    "                                 kernel_initializer='zero', \n",
    "                                 name='rpn_regr_out')(out)\n",
    "    rpn_class_out = Convolution2D(anchor_num,\n",
    "                                  (1, 1), activation='sigmoid',\n",
    "                                  kernel_initializer='uniform', \n",
    "                                  name='rpn_class_out')(out)\n",
    "    \n",
    "    return rpn_regr_out, rpn_class_out"
   ]
  },
  {
   "cell_type": "code",
   "execution_count": null,
   "metadata": {},
   "outputs": [],
   "source": []
  }
 ],
 "metadata": {
  "kernelspec": {
   "display_name": "Python 2",
   "language": "python",
   "name": "python2"
  },
  "language_info": {
   "codemirror_mode": {
    "name": "ipython",
    "version": 2
   },
   "file_extension": ".py",
   "mimetype": "text/x-python",
   "name": "python",
   "nbconvert_exporter": "python",
   "pygments_lexer": "ipython2",
   "version": "2.7.5"
  }
 },
 "nbformat": 4,
 "nbformat_minor": 2
}
