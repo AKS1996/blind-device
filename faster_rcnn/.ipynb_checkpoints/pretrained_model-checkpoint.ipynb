{
 "cells": [
  {
   "cell_type": "code",
   "execution_count": 1,
   "metadata": {},
   "outputs": [
    {
     "name": "stderr",
     "output_type": "stream",
     "text": [
      "Using TensorFlow backend.\n"
     ]
    }
   ],
   "source": [
    "import keras\n",
    "from keras import backend as K\n",
    "from keras.applications import resnet50\n",
    "from keras.applications.imagenet_utils import decode_predictions\n",
    "from keras.layers import Input\n",
    "from keras.layers import Conv2D,Flatten,MaxPooling2D,Dense,Dropout,Activation\n",
    "from keras.models import Model,Sequential\n",
    "from keras.optimizers import Adam\n",
    "from tensorflow.python.keras.preprocessing.image import ImageDataGenerator\n",
    "import cv2\n",
    "import numpy as np"
   ]
  },
  {
   "cell_type": "code",
   "execution_count": 2,
   "metadata": {},
   "outputs": [],
   "source": [
    "def pretrained_resnet(inp):\n",
    "    #we will be using pretrained ResNet50 on ImageNet\n",
    "    #image_input = Input(shape=(224, 224, 3))\n",
    "    resnet50_model = resnet50.ResNet50(input_tensor=inp, include_top=False, weights='imagenet')  \n",
    "    resnet50_model.layers.pop()\n",
    "    resnet50_model.layers.pop()\n",
    "    resnet50_model.layers.pop()\n",
    "    resnet50_model.layers.pop()\n",
    "    resnet50_model.layers.pop()\n",
    "    return resnet50_model"
   ]
  },
  {
   "cell_type": "code",
   "execution_count": 3,
   "metadata": {},
   "outputs": [],
   "source": [
    "def new_img_size(width, height, img_min_side=600):\n",
    "    if width <= height:\n",
    "        k = float(img_min_side) / width\n",
    "        resized_height = int(k * height)\n",
    "        resized_width = img_min_side\n",
    "    else:\n",
    "        k = float(img_min_side) / height\n",
    "        resized_width = int(k * width)\n",
    "        resized_height = img_min_side\n",
    "\n",
    "    return resized_width, resized_height"
   ]
  },
  {
   "cell_type": "code",
   "execution_count": 20,
   "metadata": {},
   "outputs": [],
   "source": [
    "#import import_ipynb\n",
    "#from Dataextract import data\n",
    "#all_imgs, cls_count, cls_map  =data(r'C:\\Users\\ANSHUL\\Downloads\\VOCdevkit')\n"
   ]
  },
  {
   "cell_type": "code",
   "execution_count": null,
   "metadata": {},
   "outputs": [],
   "source": [
    "#w=all_imgs[0]['width']\n",
    "#h=all_imgs[0]['height']\n",
    "#r_w,r_h=new_img_size(w,h,img_min_side=600)\n",
    "inp = Input(shape=(224,224,3))\n",
    "layer_out = pretrained_resnet(inp)\n",
    "\n",
    "for layer in layer_out.layers:\n",
    "    layer.trainable = False\n",
    "\n",
    "x= Flatten(name='flatten')(layer_out.layers[-1].output)\n",
    "preds = Dense(50, activation = 'softmax')(x)\n",
    "\n",
    "model = Model(input=inp, output=layer_out.layers[-1].output)\n",
    "model.compile(optimizer='Adam', loss='categorical_crossentropy', metrics=['accuracy'])\n",
    "\n",
    "train_datagen = ImageDataGenerator(\n",
    "        rescale=1./255,# set rescaling factor (applied before any other transformation)\n",
    "        data_format=None )\n",
    "\n",
    "train_generator = train_datagen.flow_from_directory(\n",
    "        r'/home/ug2017/mec/17135096/faster_rcnn/Train_data',  # this is the target directory\n",
    "        target_size=(224, 224),  # all images will be resized to 224x224\n",
    "        batch_size=32)\n",
    "\n",
    "model.fit_generator(\n",
    "        train_generator,\n",
    "        steps_per_epoch= (7535 // 32)+1,\n",
    "        epochs=10)"
   ]
  },
  {
   "cell_type": "code",
   "execution_count": 22,
   "metadata": {},
   "outputs": [],
   "source": [
    "model.summary()\n",
    "model.layers[-1].output_shape"
   ]
  },
  {
   "cell_type": "code",
   "execution_count": null,
   "metadata": {},
   "outputs": [],
   "source": []
  }
 ],
 "metadata": {
  "kernelspec": {
   "display_name": "Python 2",
   "language": "python",
   "name": "python2"
  },
  "language_info": {
   "codemirror_mode": {
    "name": "ipython",
    "version": 2
   },
   "file_extension": ".py",
   "mimetype": "text/x-python",
   "name": "python",
   "nbconvert_exporter": "python",
   "pygments_lexer": "ipython2",
   "version": "2.7.5"
  }
 },
 "nbformat": 4,
 "nbformat_minor": 2
}
