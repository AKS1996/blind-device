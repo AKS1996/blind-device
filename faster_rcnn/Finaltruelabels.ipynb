{
 "cells": [
  {
   "cell_type": "code",
   "execution_count": 1,
   "metadata": {},
   "outputs": [
    {
     "name": "stdout",
     "output_type": "stream",
     "text": [
      "importing Jupyter notebook from Datagenerators.ipynb\n",
      "importing Jupyter notebook from DataAugment.ipynb\n"
     ]
    },
    {
     "name": "stderr",
     "output_type": "stream",
     "text": [
      "Using TensorFlow backend.\n"
     ]
    },
    {
     "name": "stdout",
     "output_type": "stream",
     "text": [
      "importing Jupyter notebook from pretrained_model.ipynb\n"
     ]
    }
   ],
   "source": [
    "import import_ipynb\n",
    "import numpy as np\n",
    "import pdb\n",
    "import math\n",
    "import Datagenerators as D\n",
    "import copy"
   ]
  },
  {
   "cell_type": "code",
   "execution_count": 17,
   "metadata": {},
   "outputs": [],
   "source": [
    "def apply_rpn(cls_layer, regr_layer, max_boxes=300,overlap_thresh=0.9):\n",
    "    regr_layer/=4\n",
    "    anc_sizes=[128, 256, 512]\n",
    "    anc_ratios=[[1, 1], [1, 2], [2, 1]]\n",
    "    curr_layer=0\n",
    "    (rows, cols) = cls_layer.shape[1:3]\n",
    "    B=np.zeros((4,cls_layer.shape[1],cls_layer.shape[2],cls_layer.shape[3]))\n",
    "    for a_s in anc_sizes:\n",
    "        for a_r in anc_ratios:\n",
    "            anc_x=(a_s*a_r[0])/16\n",
    "            anc_y=(a_s*a_r[1])/16\n",
    "            regr=np.transpose(regr_layer[0, :, :, 4 * curr_layer:4 * curr_layer + 4],(2,0,1))\n",
    "            X, Y = np.meshgrid(np.arange(cols),np. arange(rows))\n",
    "            B[0, :, :, curr_layer] = X - anc_x/2\n",
    "            B[1, :, :, curr_layer] = Y - anc_x/2\n",
    "            B[2, :, :, curr_layer] = anc_x\n",
    "            B[3, :, :, curr_layer] = anc_y\n",
    "            d=B[:, :, :, curr_layer]\n",
    "            try:\n",
    "                x=d[0,:,:]\n",
    "                y=d[1,:,:]\n",
    "                w=d[2,:,:]\n",
    "                h=d[3,:,:]\n",
    "                tx=regr[0,:,:]\n",
    "                ty=regr[1,:,:]\n",
    "                tw=regr[2,:,:]\n",
    "                th=regr[3,:,:]\n",
    "                cx=x+w/2\n",
    "                cy=y+h/2\n",
    "                cx1=tx*w+cx\n",
    "                cy1=ty*h+cy\n",
    "                w1 = np.exp(tw.astype(np.float64)) * w\n",
    "                h1 = np.exp(tw.astype(np.float64)) * h\n",
    "                x1 = cx1 - w1/2.\n",
    "                y1 = cy1 - h1/2.\n",
    "                x1 = np.round(x1)\n",
    "                y1 = np.round(y1)\n",
    "                w1 = np.round(w1)\n",
    "                h1 = np.round(h1)\n",
    "                B[:, :, :, curr_layer]=np.stack([x1, y1, w1, h1])\n",
    "            except Exception as e:\n",
    "                print(e)\n",
    "            B[2, :, :, curr_layer] = np.maximum(1, B[2, :, :, curr_layer])\n",
    "            B[3, :, :, curr_layer] = np.maximum(1, B[3, :, :, curr_layer])\n",
    "            B[2, :, :, curr_layer] += B[0, :, :, curr_layer]\n",
    "            B[3, :, :, curr_layer] += B[1, :, :, curr_layer]\n",
    "            B[0, :, :, curr_layer] = np.maximum(0, B[0, :, :, curr_layer])\n",
    "            B[1, :, :, curr_layer] = np.maximum(0, B[1, :, :, curr_layer])\n",
    "            B[2, :, :, curr_layer] = np.minimum(cols-1, B[2, :, :, curr_layer])\n",
    "            B[3, :, :, curr_layer] = np.minimum(rows-1, B[3, :, :, curr_layer])\n",
    "            \n",
    "            curr_layer+=1\n",
    "            all_boxes = np.reshape(B.transpose((0, 3, 1,2)), (4, -1)).transpose((1, 0))\n",
    "            all_probs = cls_layer.transpose((0, 3, 1, 2)).reshape((-1))\n",
    "            x1 = all_boxes[:, 0]\n",
    "            y1 = all_boxes[:, 1]\n",
    "            x2 = all_boxes[:, 2]\n",
    "            y2 = all_boxes[:, 3]\n",
    "            \n",
    "            index = np.where((x1 - x2 >= 0) | (y1 - y2 >= 0))\n",
    "            all_boxes = np.delete(all_boxes, index, 0)\n",
    "            all_probs = np.delete(all_probs, index, 0)\n",
    "            R = nms(all_boxes, all_probs, overlap_thresh=0.9, max_boxes=300)[0]\n",
    "            return R"
   ]
  },
  {
   "cell_type": "code",
   "execution_count": 18,
   "metadata": {},
   "outputs": [],
   "source": [
    "def nms(boxes, probs, overlap_thresh=0.9, max_boxes=300):\n",
    "    if len(boxes)==0:\n",
    "        return []\n",
    "    x1=boxes[:,0]\n",
    "    y1=boxes[:,1]\n",
    "    x2=boxes[:,2]\n",
    "    y2=boxes[:,3]\n",
    "    boxes=boxes.astype(\"float\")\n",
    "    fwd=[]\n",
    "    area=abs((x2-x1)*(y2-y1))\n",
    "    index=np.argsort(probs)\n",
    "    while len(index)>0:\n",
    "        last=len(index)-1\n",
    "        fwd.append(index[len(index)-1])\n",
    "        x_1 = np.maximum(x1[index[len(index)-1]], x1[index[:last]])\n",
    "        y_1 = np.maximum(y1[index[len(index)-1]], y1[index[:last]])\n",
    "        x_2 = np.minimum(x2[index[len(index)-1]], x2[index[:last]])\n",
    "        y_2 = np.minimum(y2[index[len(index)-1]], y2[index[:last]])\n",
    "        w_1 = np.maximum(0, x_2 - x_1)\n",
    "        h_1 = np.maximum(0, y_2 - y_1)\n",
    "        area_1=w_1*h_1\n",
    "        area_u=area[index[len(index)-1]] + area[index[:last]] - area_1\n",
    "        iou=area_1/(area_u+1e-6)\n",
    "        index = np.delete(index, np.concatenate(([last],np.where(overlap_thresh>0.9)[0])))\n",
    "        if len(fwd)>=max_boxes:\n",
    "            break\n",
    "    boxes=boxes[index].astype(int)\n",
    "    probs=probs[index]\n",
    "    return boxes,probs\n",
    "    \n",
    "        \n",
    "    "
   ]
  },
  {
   "cell_type": "code",
   "execution_count": 19,
   "metadata": {},
   "outputs": [],
   "source": [
    "\n",
    "import import_ipynb\n",
    "import Datagenerators as D"
   ]
  },
  {
   "cell_type": "code",
   "execution_count": 20,
   "metadata": {},
   "outputs": [],
   "source": [
    "def last_iou(R,img_data,class_mapping):\n",
    "    bboxes=img_data['bboxes']\n",
    "    (w,h)=(img_data['width'],img_data['height'])\n",
    "    resized_w,resized_h=D.new_img_size(w, h, img_min_side=600)\n",
    "    gtc=np.zeros((len(bboxes),4))\n",
    "    for b_num,bbox in enumerate(bboxes):\n",
    "        gtc[b_num, 0] = int(round(bbox['x1'] * (resized_w / float(w))/16))\n",
    "        gtc[b_num, 1] = int(round(bbox['x2'] * (resized_w / float(w))/16))\n",
    "        gtc[b_num, 2] = int(round(bbox['y1'] * (resized_h / float(h))/16))\n",
    "        gtc[b_num, 3] = int(round(bbox['y2'] * (resized_h / float(h))/16))\n",
    "    x_roi=[]\n",
    "    y_cls_num=[]\n",
    "    y_cls_regr_coords=[]\n",
    "    y_cls_regr_label=[]\n",
    "    iou=[]\n",
    "    for i in range(R.shape[0]):\n",
    "        x1,y1,x2,y2=R[i,:]\n",
    "        best_iou=0.0\n",
    "        best_bbox=-1\n",
    "        for b_num in range(len(bboxes)):\n",
    "            curr_iou=D.iou([gtc[b_num,0],gtc[b_num,2],gtc[b_num,1],gtc[b_num,3]],[x1,y1,x2,y2])\n",
    "            if curr_iou>best_iou:\n",
    "                best_iou=curr_iou\n",
    "                best_bbox=b_num\n",
    "        if best_iou<0.1:\n",
    "            continue\n",
    "        else:\n",
    "            w=x2-x1\n",
    "            h=y2-y1\n",
    "            x_roi.append([x1,y1,w,h])\n",
    "            iou.append(best_iou)\n",
    "            if 0.1<=best_iou<0.5:\n",
    "                cls_name='bg'\n",
    "            elif 0.5<=best_iou:\n",
    "                cls_name=bboxes[best_bbox]['class']\n",
    "                cxg = (gtc[best_bbox, 0] + gtc[best_bbox, 1]) / 2.0\n",
    "                cyg = (gtc[best_bbox, 2] + gtc[best_bbox, 3]) / 2.0\n",
    "                cx=x1+w/2\n",
    "                cy=y1+h/2\n",
    "                tx = (cxg - cx) / float(w)\n",
    "                ty =(cyg-cy)/float(w)\n",
    "                tw = np.log((gtc[best_bbox, 1] - gtc[best_bbox, 0]) / float(w))\n",
    "                th = np.log((gtc[best_bbox, 3] - gtc[best_bbox, 2]) / float(h))\n",
    "        cls_num=class_mapping[cls_name]\n",
    "        cls_label=len(class_mapping)*[0]\n",
    "        cls_label[cls_num]=1\n",
    "        y_cls_num.append(cls_label)          #due to roi pool individual\n",
    "        coords = [0] * 4 * (len(class_mapping) - 1)            #one less lenght as 'bg' no cords and labesls\n",
    "        labels = [0] * 4 * (len(class_mapping) - 1)\n",
    "        if cls_name!='bg':\n",
    "            label_pos = 4 * cls_num\n",
    "            sx, sy, sw, sh= [8.0, 8.0, 4.0, 4.0]      #classifier_regr_std\n",
    "            coords[label_pos:4+label_pos] = [sx*tx, sy*ty, sw*tw, sh*th]     \n",
    "            labels[label_pos:4+label_pos] = [1, 1, 1, 1]\n",
    "            y_cls_regr_coords.append(copy.deepcopy(coords))\n",
    "            y_cls_regr_label.append(copy.deepcopy(labels))\n",
    "        else:\n",
    "            y_cls_regr_coords.append(copy.deepcopy(coords))\n",
    "            y_cls_regr_label.append(copy.deepcopy(labels))\n",
    "    if len(x_roi)==0:\n",
    "        return None,None,None,None\n",
    "    X=np.array(x_roi)\n",
    "    Y1 = np.array(y_cls_num)\n",
    "    Y2 = np.concatenate([np.array(y_cls_regr_label),np.array(y_cls_regr_coords)],axis=1)\n",
    "    return np.expand_dims(X, axis=0), np.expand_dims(Y1, axis=0), np.expand_dims(Y2, axis=0), iou"
   ]
  },
  {
   "cell_type": "code",
   "execution_count": 6,
   "metadata": {},
   "outputs": [],
   "source": [
    "#labels=[0] * 2 * (2)\n",
    "#coords = [0] * 2 * (2)\n",
    "#coords[0:2]=[2,3]\n",
    "#labels[0:2]=[1,1]\n",
    "#coords=[[2,3,0,0],[4,5,0,0]]\n",
    "#labels=[[1,1,0,0],[0,0,1,1]]\n",
    "#np.concatenate([np.array(coords),np.array(labels)],axis=1)"
   ]
  },
  {
   "cell_type": "code",
   "execution_count": 7,
   "metadata": {},
   "outputs": [],
   "source": [
    "#import numpy as np\n",
    "#np.meshgrid(np.arange(3),np.arange(2))"
   ]
  },
  {
   "cell_type": "code",
   "execution_count": null,
   "metadata": {},
   "outputs": [],
   "source": []
  },
  {
   "cell_type": "code",
   "execution_count": null,
   "metadata": {},
   "outputs": [],
   "source": []
  }
 ],
 "metadata": {
  "kernelspec": {
   "display_name": "Python 3",
   "language": "python",
   "name": "python3"
  },
  "language_info": {
   "codemirror_mode": {
    "name": "ipython",
    "version": 3
   },
   "file_extension": ".py",
   "mimetype": "text/x-python",
   "name": "python",
   "nbconvert_exporter": "python",
   "pygments_lexer": "ipython3",
   "version": "3.6.4"
  }
 },
 "nbformat": 4,
 "nbformat_minor": 2
}
