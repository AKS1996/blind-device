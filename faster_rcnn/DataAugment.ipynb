{
 "cells": [
  {
   "cell_type": "code",
   "execution_count": 57,
   "metadata": {},
   "outputs": [],
   "source": [
    "import cv2\n",
    "import numpy as np\n",
    "import copy"
   ]
  },
  {
   "cell_type": "code",
   "execution_count": 1,
   "metadata": {},
   "outputs": [],
   "source": [
    "def data_augment(img_data,augment=True):\n",
    "    img_aug=img_data\n",
    "    img=cv2.imread(img_aug['filepath'])\n",
    "    if augment:\n",
    "        rows,cols=img.shape[:2]\n",
    "        if(np.random.randint(0, 2) == 0):\n",
    "            img=cv2.flip(img,1)\n",
    "            i=1\n",
    "            for bbox in img_aug['bboxes']:\n",
    "                x1=bbox['x1']\n",
    "                x2=bbox['x2']\n",
    "                bbox['x2']=cols-x1\n",
    "                bbox['x1']=cols-x2\n",
    "        if(np.random.randint(0, 2) == 0):\n",
    "            img=cv2.flip(img,0)\n",
    "            i=2\n",
    "            for bbox in img_aug['bboxes']:\n",
    "                y1=bbox['y1']\n",
    "                y2=bbox['y2']\n",
    "                bbox['y1']=rows-y2\n",
    "                bbox['y2']=rows-y1\n",
    "        \n",
    "        angle = np.random.choice([0,90,180,270],1)[0]\n",
    "        if angle == 270:\n",
    "            img = np.transpose(img, (1,0,2))\n",
    "            img = cv2.flip(img, 0)\n",
    "            i=3\n",
    "        elif angle == 180:\n",
    "            img = cv2.flip(img, -1)\n",
    "            i=4\n",
    "        elif angle == 90:\n",
    "            img = np.transpose(img, (1,0,2))\n",
    "            img = cv2.flip(img, 1)\n",
    "            i=5\n",
    "        elif angle == 0:\n",
    "            i=6\n",
    "            pass\n",
    "        \n",
    "        for bbox in img_aug['bboxes']:\n",
    "            x1=bbox['x1']\n",
    "            x2=bbox['x2']\n",
    "            y1=bbox['y1']\n",
    "            y2=bbox['y2']\n",
    "            if(angle==180):\n",
    "                bbox['x1']=cols-x2\n",
    "                bbox['x2']=cols-x1\n",
    "                bbox['y1']=rows-y2\n",
    "                bbox['y2']=rows-y1\n",
    "            if(angle==270):\n",
    "                bbox['x1']=y1\n",
    "                bbox['x2']=y2\n",
    "                bbox['y1']=cols-x2\n",
    "                bbox['y2']=cols-x1\n",
    "            if(angle==90):\n",
    "                bbox['x1']=rows-y2\n",
    "                bbox['x2']=rows-y1\n",
    "                bbox['y1']=x1\n",
    "                bbox['y2']=x2\n",
    "            if(angle==0):\n",
    "                pass\n",
    "    img_aug['width'] = img.shape[1]\n",
    "    img_aug['height'] = img.shape[0]\n",
    "    return img_aug,img\n",
    "    \n",
    "    "
   ]
  },
  {
   "cell_type": "code",
   "execution_count": 59,
   "metadata": {},
   "outputs": [],
   "source": [
    "#import import_ipynb\n"
   ]
  },
  {
   "cell_type": "code",
   "execution_count": 60,
   "metadata": {},
   "outputs": [],
   "source": [
    "#from Dataextract import data"
   ]
  },
  {
   "cell_type": "code",
   "execution_count": 61,
   "metadata": {},
   "outputs": [],
   "source": [
    "#import os\n",
    "#import xml.etree.ElementTree as ET\n",
    "#import numpy as np\n",
    "#k,m,n=data(r'C:\\Users\\ANSHUL\\Downloads\\VOCdevkit')"
   ]
  },
  {
   "cell_type": "code",
   "execution_count": 62,
   "metadata": {},
   "outputs": [],
   "source": [
    "#img_data=k[3]\n",
    "#k[3]['bboxes']"
   ]
  },
  {
   "cell_type": "code",
   "execution_count": 63,
   "metadata": {},
   "outputs": [],
   "source": [
    "#import cv2\n",
    "#a,b,c=data_augment(img_data)\n",
    "#(w,h)=(a['width'],a['height'])\n",
    "#(rows,cols,_)=b.shape\n",
    "##print(w)\n",
    "#print(h)\n",
    "#print(rows)\n",
    "#print(cols)\n",
    "#print(c)"
   ]
  },
  {
   "cell_type": "code",
   "execution_count": 64,
   "metadata": {},
   "outputs": [],
   "source": [
    "#cv2.imshow('img',b)\n",
    "#cv2.waitKey(0)\n",
    "#cv2.destroyAllWindows()"
   ]
  },
  {
   "cell_type": "code",
   "execution_count": 65,
   "metadata": {},
   "outputs": [],
   "source": [
    "#a['bboxes']"
   ]
  },
  {
   "cell_type": "code",
   "execution_count": 66,
   "metadata": {},
   "outputs": [],
   "source": [
    "#for bbox in a['bboxes']:\n",
    "#    cv2.rectangle(b, (bbox['x1'], bbox['y1']), (bbox['x2'], bbox['y2']), (0, 0, 255))\n",
    "#cv2.imshow('img', b)\n",
    "#cv2.waitKey(0)\n",
    "#cv2.destroyAllWindows\n",
    "#for bbox in k[1]['bboxes']:\n",
    "#    cv2.rectangle(img, (bbox['x1'], bbox['y1']), (bbox['x2'], bbox['y2']), (0, 0, 255))\n",
    "#cv2.imshow('img', img)\n",
    "#cv2.waitKey(0)"
   ]
  },
  {
   "cell_type": "code",
   "execution_count": null,
   "metadata": {},
   "outputs": [],
   "source": []
  }
 ],
 "metadata": {
  "kernelspec": {
   "display_name": "Python 3",
   "language": "python",
   "name": "python3"
  },
  "language_info": {
   "codemirror_mode": {
    "name": "ipython",
    "version": 3
   },
   "file_extension": ".py",
   "mimetype": "text/x-python",
   "name": "python",
   "nbconvert_exporter": "python",
   "pygments_lexer": "ipython3",
   "version": "3.6.4"
  }
 },
 "nbformat": 4,
 "nbformat_minor": 2
}
