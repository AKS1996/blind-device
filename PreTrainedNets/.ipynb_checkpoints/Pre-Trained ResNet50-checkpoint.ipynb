{
 "cells": [
  {
   "cell_type": "markdown",
   "metadata": {},
   "source": [
    "# Pre-Trained ResNet50 Image Classifier\n",
    "\n",
    "This program takes input a video/live cam feed (provided it has only one object per frame - since it is a classifier, not a detector) and classifies the frames according to the ImageNet dataset using ResNet50 architecture"
   ]
  },
  {
   "cell_type": "code",
   "execution_count": 1,
   "metadata": {},
   "outputs": [
    {
     "name": "stderr",
     "output_type": "stream",
     "text": [
      "Using TensorFlow backend.\n"
     ]
    }
   ],
   "source": [
    "import keras\n",
    "from keras.applications import resnet50\n",
    "from keras.applications.imagenet_utils import decode_predictions\n",
    "import cv2\n",
    "import numpy as np\n",
    "\n",
    "\n",
    "###################################################################################################\n",
    "#To limit GPU usage\n",
    "'''import tensorflow as tf\n",
    "import keras.backend.tensorflow_backend as ktf\n",
    "\n",
    "\n",
    "def get_session(gpu_fraction=0.35):\n",
    "    gpu_options = tf.GPUOptions(per_process_gpu_memory_fraction=gpu_fraction,\n",
    "                                allow_growth=True)\n",
    "    return tf.Session(config=tf.ConfigProto(gpu_options=gpu_options))\n",
    "\n",
    "\n",
    "ktf.set_session(get_session())'''\n",
    "###################################################################################################\n",
    "\n",
    "\n",
    "\n",
    "resnet50_model = resnet50.ResNet50(weights='imagenet')           #we will be using pretrained ResNet50 on ImageNet"
   ]
  },
  {
   "cell_type": "code",
   "execution_count": null,
   "metadata": {},
   "outputs": [],
   "source": [
    "cap = cv2.VideoCapture('Humans_HD_Stock_Video.mp4')   #Replace this with a video of your choice provided it has only one object in every frame\n",
    "\n",
    "if cap.isOpened():\n",
    "    i=1\n",
    "    while True:\n",
    "        ret, img = cap.read()\n",
    "        img_input = cv2.resize(img, (224,224))\n",
    "        img_input = np.array(img_input, dtype=np.float64)\n",
    "        img_input = np.expand_dims(img_input, axis=0)\n",
    "\n",
    "        img_input3 = resnet50.preprocess_input(img_input.copy())  #preprocessing by subtraction mean of every element across the three channels\n",
    "\n",
    "        predictions = resnet50_model.predict(img_input3)    #prediction on the model\n",
    "        label = decode_predictions(predictions)             #extracting labels from predictions\n",
    "        cv2.imshow('frame', img_input)\n",
    "        \n",
    "        if i%25 == 0:\n",
    "            print(label[0][0][1])                           #print label every 25 iterations\n",
    "            \n",
    "            \n",
    "        i+=1\n",
    "\n",
    "        if cv2.waitKey(1) and 0xFF == ord('q'):\n",
    "            cap.release()\n",
    "            cv2.destroyAllWindows()\n",
    "            break\n",
    "            \n",
    "if not cap.isOpened():\n",
    "    print(\"Camera Not Found Probably\")"
   ]
  },
  {
   "cell_type": "code",
   "execution_count": null,
   "metadata": {},
   "outputs": [],
   "source": []
  }
 ],
 "metadata": {
  "kernelspec": {
   "display_name": "Python 2",
   "language": "python",
   "name": "python2"
  },
  "language_info": {
   "codemirror_mode": {
    "name": "ipython",
    "version": 2
   },
   "file_extension": ".py",
   "mimetype": "text/x-python",
   "name": "python",
   "nbconvert_exporter": "python",
   "pygments_lexer": "ipython2",
   "version": "2.7.5"
  }
 },
 "nbformat": 4,
 "nbformat_minor": 2
}
